{
 "cells": [
  {
   "cell_type": "markdown",
   "id": "25e406e4",
   "metadata": {},
   "source": [
    "# Python básico\n",
    "\n",
    "Ana Belén Romero Losada\n",
    "Departamento de Ciencias de la Computación e Inteligencia Artificial\n",
    "Universidad de Sevila\n",
    "\n",
    "En esta hoja de trabajo vamos a ver lo esencial de Python para poder empezar a practicar con el lenguaje.\n",
    "\n",
    "En el entorno Jupyter se trabaja Python sobre un notebook u hoja de trabajo. Esta hoja de trabajo está formada por una secuencia de cajas, que pueden ser de texto, en las que explicar ideas y conceptos, o de código, en las que definir o evaluar funciones Python.\n"
   ]
  },
  {
   "cell_type": "markdown",
   "id": "6f83aa55",
   "metadata": {},
   "source": [
    "##  Ejercicio 1\n",
    "\n",
    "Crea una función que resuelva una ecuación de segundo grado en jupyter y en R. Compara las diferencias a la hora de realizar operaciones aritméticas y lógicas, declarar variables/objetos y usar las estructuras de control. \n",
    "\n",
    "PISTA: existe una función llamada round() para redondear. Se usa como típicamente se usa en R."
   ]
  },
  {
   "cell_type": "code",
   "execution_count": 2,
   "id": "5a496365",
   "metadata": {},
   "outputs": [],
   "source": [
    "#Crea la funcion llamada calculadora\n",
    "##comprueba si el número que iría dentro de la raiz cuadrada es negativo\n",
    "###Devuelve 0 y un mensaje de error\n",
    "##en el caso que no lo sea, resuelve la ecuacion\n",
    "### imprime por pantalla los siguientes mensajes\n",
    "####\"ambas soluciones son válidas, x puede valer sol1 y sol2\"\n",
    "####\"Solo la solucion 1 es válida, x vale sol1\"\n",
    "####\"Solo la solucion 2 es válida, x vale sol2\"\n",
    "\n"
   ]
  },
  {
   "cell_type": "code",
   "execution_count": 10,
   "id": "16ff2bc4",
   "metadata": {},
   "outputs": [],
   "source": [
    "def calculadora(a,b,c):\n",
    "    raiz=b**2-4*a*c\n",
    "    if raiz<0:\n",
    "        print(\"La ecuación no tiene solución\")\n",
    "    else:\n",
    "        sol1=(-b + (raiz**1/2))/(2*a)\n",
    "        sol2=(-b - (raiz**1/2))/(2*a)\n",
    "        prueba1=(a*(sol1**2)) + (b*sol1) + c\n",
    "        prueba2=(a*(sol2**2)) + (b*sol2) + c\n",
    "        \n",
    "        if round(prueba1) == 0 and round(prueba2) == 0:\n",
    "            print(\"Ambas soluciones son válidas. El valor de x puede ser\", sol1,\"o\", sol2)\n",
    "        elif round(prueba1) == 0 and round(prueba2) != 0:\n",
    "            print(\"Solo la solución 1 es válida, por lo que x solo puede valer\", sol1)\n",
    "        elif round(prueba1) != 0 and round(prueba2) == 0:\n",
    "            print(\"Solo la solución 2 es válida, por lo que x solo puede valer\", sol2)\n",
    "        "
   ]
  },
  {
   "cell_type": "code",
   "execution_count": 9,
   "id": "12dde7a4",
   "metadata": {
    "scrolled": true
   },
   "outputs": [
    {
     "name": "stdout",
     "output_type": "stream",
     "text": [
      "La ecuación no tiene solución\n"
     ]
    }
   ],
   "source": [
    "calculadora(3,2,5)"
   ]
  },
  {
   "cell_type": "markdown",
   "id": "0bdfc9f1",
   "metadata": {},
   "source": [
    "## Ejercicio 2\n",
    "\n",
    "Traduce este pseudocódigo a código en R y python simultáneamente. \n",
    "\n"
   ]
  },
  {
   "cell_type": "code",
   "execution_count": 14,
   "id": "d22b6179",
   "metadata": {},
   "outputs": [
    {
     "name": "stdout",
     "output_type": "stream",
     "text": [
      "2 3 45\n"
     ]
    }
   ],
   "source": [
    "#Declara una variable llamada x que valga 2\n",
    "#Súmale 2 a x\n",
    "x=2\n",
    "\n",
    "#Puedo nombrar varias variables a la vez\n",
    "x,y,b=2,3,45\n",
    "print(x,y,b)"
   ]
  },
  {
   "cell_type": "code",
   "execution_count": 15,
   "id": "9481dca0",
   "metadata": {},
   "outputs": [
    {
     "data": {
      "text/plain": [
       "4"
      ]
     },
     "execution_count": 15,
     "metadata": {},
     "output_type": "execute_result"
    }
   ],
   "source": [
    "#Para sumarle 2 uso una asignación aumentada\n",
    "x+=2\n",
    "\n",
    "#Igual para la resta\n",
    "x-=3"
   ]
  },
  {
   "cell_type": "code",
   "execution_count": 17,
   "id": "c04298d3",
   "metadata": {},
   "outputs": [],
   "source": [
    "#Declara una variable llamada palabra que valga \"hola\"\n",
    "#Cuadrupicla la variable palabra"
   ]
  },
  {
   "cell_type": "code",
   "execution_count": 17,
   "id": "77acee89",
   "metadata": {},
   "outputs": [
    {
     "data": {
      "text/plain": [
       "'hola hola hola hola '"
      ]
     },
     "execution_count": 17,
     "metadata": {},
     "output_type": "execute_result"
    }
   ],
   "source": [
    "palabra=\"hola \" #puedo poner el espacio y que aparezca separado o dejarlo y se cuadruplica como una serie de caracteres\n",
    "palabra*=4\n",
    "palabra"
   ]
  },
  {
   "cell_type": "code",
   "execution_count": 22,
   "id": "a9457486",
   "metadata": {},
   "outputs": [
    {
     "data": {
      "text/plain": [
       "9"
      ]
     },
     "execution_count": 22,
     "metadata": {},
     "output_type": "execute_result"
    }
   ],
   "source": [
    "#añade las palabras \"mundo que tal\" a palabra\n",
    "palabra+=\"mundo que tal \"\n",
    "palabra\n",
    "\n",
    "#encuentra en que posicion está mundo\n",
    "palabra.index(\"mundo\") #La palabra empieza en el caracter numero 20 de la string\n",
    "\n",
    "#escribelo en mayuscula y cuenta cuantas \"a\" hay (esto hazlo solo en python)\n",
    "palabra.upper() #Si lo dejo vacío lo pone todo en mayúscula\n",
    "palabra.find(\"tal\") #Para ver si dentro de mi string está lo que busco\n",
    "palabra.count(\"a\") #nos cuenta cuanto hay de lo que estamos buscando\n"
   ]
  },
  {
   "cell_type": "code",
   "execution_count": 23,
   "id": "57f30e16",
   "metadata": {},
   "outputs": [
    {
     "data": {
      "text/plain": [
       "'hola hola hola hola mundo que talmundo que talmundo que talmundo que tal mundo que tal '"
      ]
     },
     "execution_count": 23,
     "metadata": {},
     "output_type": "execute_result"
    }
   ],
   "source": [
    "palabra"
   ]
  },
  {
   "cell_type": "code",
   "execution_count": 27,
   "id": "6df80e00",
   "metadata": {},
   "outputs": [
    {
     "data": {
      "text/plain": [
       "' lat euq odnum lat euq odnumlat euq odnumlat euq odnumlat euq odnum aloh aloh aloh aloh'"
      ]
     },
     "execution_count": 27,
     "metadata": {},
     "output_type": "execute_result"
    }
   ],
   "source": [
    "palabra[0:6] #iría del carácter 1 al 6 contando los espacion también, no como en R que lo cuenta como palabras\n",
    "#En python empieza a contar desde la posición 0, si pongo uno empezaría desde lo que es la segunda posición\n",
    "\n",
    "palabra[0:12:2] #esta la opción de poner los dos puntos segundos que funcionarían como el by en R. Significa ir de la posicion\n",
    "                #0 a la 12 de 2 en 2\n",
    "\n",
    "palabra[::-1] #para generar la cadena de caracteres al reves"
   ]
  },
  {
   "cell_type": "markdown",
   "id": "cd1fc86f",
   "metadata": {},
   "source": [
    "## Ejercicio 3\n",
    "\n",
    "Vamos a prácticar con las demás clases de objetos en python."
   ]
  },
  {
   "cell_type": "code",
   "execution_count": 33,
   "id": "95a15183",
   "metadata": {},
   "outputs": [
    {
     "ename": "TypeError",
     "evalue": "'tuple' object does not support item assignment",
     "output_type": "error",
     "traceback": [
      "\u001b[1;31m---------------------------------------------------------------------------\u001b[0m",
      "\u001b[1;31mTypeError\u001b[0m                                 Traceback (most recent call last)",
      "Cell \u001b[1;32mIn[33], line 28\u001b[0m\n\u001b[0;32m     23\u001b[0m tupla1\n\u001b[0;32m     25\u001b[0m \u001b[38;5;66;03m#Modifica el valor de la posición 2 en la tupla por la palabra \"hola\"\u001b[39;00m\n\u001b[0;32m     26\u001b[0m \u001b[38;5;66;03m##No se pueden modificar los elementos de una tupla, siempre van a ser los introducidos inicialmente. Por esto se usa para\u001b[39;00m\n\u001b[0;32m     27\u001b[0m \u001b[38;5;66;03m##trabajar con datos que no queremos modificar. En caso contrario, usamos las listas\u001b[39;00m\n\u001b[1;32m---> 28\u001b[0m tupla1[\u001b[38;5;241m2\u001b[39m]\u001b[38;5;241m=\u001b[39m\u001b[38;5;241m5\u001b[39m\n",
      "\u001b[1;31mTypeError\u001b[0m: 'tuple' object does not support item assignment"
     ]
    }
   ],
   "source": [
    "#############tuplas\n",
    "##La estructura es un parentesis con los objetos dentro separados por comas. No pueden contener listas ni otra tupla\n",
    "\n",
    "#Crea una tupla con tres elementos, el elemento más parecido a un vector\n",
    "tupla1=(1,4,5,\"hola\")\n",
    "tupla2=1,2,3,4\n",
    "\n",
    "#Crea una tupla con un elemento\n",
    "tupla_uno=1, #le pongo la coma al lado para que lo reconozca como tupla y no como valor aislado\n",
    "\n",
    "#Crea una tupla vacía\n",
    "tupla_vacia=()\n",
    "\n",
    "#recorre la tupla al revés\n",
    "tupla1[::-1]\n",
    "tupla1[3]\n",
    "\n",
    "#está el valor 6 en la tupla?\n",
    "1 in tupla1\n",
    "\n",
    "#Concatena, es decir, añade al final de la tupla: el valor 10\n",
    "tupla1+=(\"hola\",) #debo añadirle los elementos correspondientes a una tupla para concatenar, si no lo reconoce como string\n",
    "tupla1\n",
    "\n",
    "#Modifica el valor de la posición 2 en la tupla por la palabra \"hola\"\n",
    "##No se pueden modificar los elementos de una tupla, siempre van a ser los introducidos inicialmente. Por esto se usa para\n",
    "##trabajar con datos que no queremos modificar. En caso contrario, usamos las listas\n",
    "tupla1[2]=5"
   ]
  },
  {
   "cell_type": "code",
   "execution_count": 48,
   "id": "305c0ac9",
   "metadata": {},
   "outputs": [
    {
     "data": {
      "text/plain": [
       "'hola mundo hola tal hola'"
      ]
     },
     "execution_count": 48,
     "metadata": {},
     "output_type": "execute_result"
    }
   ],
   "source": [
    "#############listas\n",
    "##Dentro de las listas podemos meter cualquier elemento\n",
    "#Crea una lista que dentro tenga palabras\n",
    "lista1= [\"hola\", \"mundo\", \"que\", \"tal\"]\n",
    "\n",
    "#Modifica el valor de la posición 2 en la lista por la palabra \"hola\"\n",
    "lista1[2]=\"hola\"\n",
    "lista1\n",
    "\n",
    "#Concatena el valor 122 con tu lista\n",
    "#lista1+=[122]\n",
    "#lista1\n",
    "\n",
    "#Concatena el valor \"hola\" con tu lista\n",
    "lista1+=[\"hola\"]\n",
    "lista1\n",
    "\n",
    "#transforma la lista en una string con la función .join\n",
    "# .append sirve para ir añadiendo a mi lista valores sin necesidad de darle un formato específico\n",
    "##join no pasa números a string, solo palabras\n",
    "\" \".join(lista1)\n",
    "\n",
    "\n",
    "#####FOR\n",
    "def mi_primer_bucle(lista):\n",
    "    #for (i in 1:length(lista))\n",
    "    for i in range(0, (len(lista)+1)):\n",
    "        lista[i]<-x+1\n",
    "    for numero in lista:\n",
    "        numero+1"
   ]
  },
  {
   "cell_type": "code",
   "execution_count": 36,
   "id": "37b322bc",
   "metadata": {},
   "outputs": [],
   "source": [
    "#############Diccionarios\n",
    "#Crea un diccionario\n",
    "#accede al valor de la 2ª clave\n",
    "#Añade una clave nueva con su correspondiente valor\n",
    "#Accede solo a los valores, o solo a las claves"
   ]
  }
 ],
 "metadata": {
  "kernelspec": {
   "display_name": "Python 3 (ipykernel)",
   "language": "python",
   "name": "python3"
  },
  "language_info": {
   "codemirror_mode": {
    "name": "ipython",
    "version": 3
   },
   "file_extension": ".py",
   "mimetype": "text/x-python",
   "name": "python",
   "nbconvert_exporter": "python",
   "pygments_lexer": "ipython3",
   "version": "3.11.5"
  }
 },
 "nbformat": 4,
 "nbformat_minor": 5
}
